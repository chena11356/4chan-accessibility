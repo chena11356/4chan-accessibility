{
  "nbformat": 4,
  "nbformat_minor": 0,
  "metadata": {
    "colab": {
      "provenance": []
    },
    "kernelspec": {
      "name": "python3",
      "display_name": "Python 3"
    },
    "language_info": {
      "name": "python"
    }
  },
  "cells": [
    {
      "cell_type": "code",
      "source": [
        "!pip install basc-py4chan\n",
        "import basc_py4chan"
      ],
      "metadata": {
        "colab": {
          "base_uri": "https://localhost:8080/"
        },
        "id": "i0jv1O_QczWh",
        "outputId": "8d2eb051-ebe5-4e9a-c5f1-0177b90141fd"
      },
      "execution_count": null,
      "outputs": [
        {
          "output_type": "stream",
          "name": "stdout",
          "text": [
            "Looking in indexes: https://pypi.org/simple, https://us-python.pkg.dev/colab-wheels/public/simple/\n",
            "Requirement already satisfied: basc-py4chan in /usr/local/lib/python3.7/dist-packages (0.6.6)\n",
            "Requirement already satisfied: requests>=1.0.0 in /usr/local/lib/python3.7/dist-packages (from basc-py4chan) (2.23.0)\n",
            "Requirement already satisfied: certifi>=2017.4.17 in /usr/local/lib/python3.7/dist-packages (from requests>=1.0.0->basc-py4chan) (2022.9.24)\n",
            "Requirement already satisfied: idna<3,>=2.5 in /usr/local/lib/python3.7/dist-packages (from requests>=1.0.0->basc-py4chan) (2.10)\n",
            "Requirement already satisfied: urllib3!=1.25.0,!=1.25.1,<1.26,>=1.21.1 in /usr/local/lib/python3.7/dist-packages (from requests>=1.0.0->basc-py4chan) (1.24.3)\n",
            "Requirement already satisfied: chardet<4,>=3.0.2 in /usr/local/lib/python3.7/dist-packages (from requests>=1.0.0->basc-py4chan) (3.0.4)\n"
          ]
        }
      ]
    },
    {
      "cell_type": "code",
      "source": [
        "import nltk\n",
        "nltk.download('twitter_samples')\n",
        "nltk.download('stopwords')\n",
        "!pip install -q transformers\n",
        "!pip install basc-py4chan\n",
        "from transformers import pipeline\n",
        "sentiment_pipeline = pipeline(\"sentiment-analysis\")"
      ],
      "metadata": {
        "colab": {
          "base_uri": "https://localhost:8080/"
        },
        "id": "W-BwsYywl6QC",
        "outputId": "f482e220-dbad-4c13-ffb2-6a269c686fe6"
      },
      "execution_count": null,
      "outputs": [
        {
          "output_type": "stream",
          "name": "stderr",
          "text": [
            "[nltk_data] Downloading package twitter_samples to /root/nltk_data...\n",
            "[nltk_data]   Package twitter_samples is already up-to-date!\n",
            "[nltk_data] Downloading package stopwords to /root/nltk_data...\n",
            "[nltk_data]   Package stopwords is already up-to-date!\n"
          ]
        },
        {
          "output_type": "stream",
          "name": "stdout",
          "text": [
            "Looking in indexes: https://pypi.org/simple, https://us-python.pkg.dev/colab-wheels/public/simple/\n",
            "Requirement already satisfied: basc-py4chan in /usr/local/lib/python3.7/dist-packages (0.6.6)\n",
            "Requirement already satisfied: requests>=1.0.0 in /usr/local/lib/python3.7/dist-packages (from basc-py4chan) (2.23.0)\n",
            "Requirement already satisfied: urllib3!=1.25.0,!=1.25.1,<1.26,>=1.21.1 in /usr/local/lib/python3.7/dist-packages (from requests>=1.0.0->basc-py4chan) (1.24.3)\n",
            "Requirement already satisfied: chardet<4,>=3.0.2 in /usr/local/lib/python3.7/dist-packages (from requests>=1.0.0->basc-py4chan) (3.0.4)\n",
            "Requirement already satisfied: idna<3,>=2.5 in /usr/local/lib/python3.7/dist-packages (from requests>=1.0.0->basc-py4chan) (2.10)\n",
            "Requirement already satisfied: certifi>=2017.4.17 in /usr/local/lib/python3.7/dist-packages (from requests>=1.0.0->basc-py4chan) (2022.9.24)\n"
          ]
        },
        {
          "output_type": "stream",
          "name": "stderr",
          "text": [
            "No model was supplied, defaulted to distilbert-base-uncased-finetuned-sst-2-english and revision af0f99b (https://huggingface.co/distilbert-base-uncased-finetuned-sst-2-english).\n",
            "Using a pipeline without specifying a model name and revision in production is not recommended.\n"
          ]
        }
      ]
    },
    {
      "cell_type": "code",
      "source": [
        "from matplotlib import pyplot as plt\n",
        "import numpy as np\n",
        "\n",
        "def getThread(board,threadid):\n",
        "  b = basc_py4chan.Board(board)\n",
        "  thread = b.get_thread(threadid)\n",
        "  return thread\n",
        "\n",
        "def getThreads(board,allPages=False):\n",
        "  b = basc_py4chan.Board(board)\n",
        "  if allPages:\n",
        "    return b.get_all_threads()\n",
        "  return b.get_threads(page=1)\n",
        "\n",
        "def printTopicLine(thread):\n",
        "  print(thread.topic.text_comment.split(\"\\n\")[0])\n",
        "\n",
        "def processSentiment(s):\n",
        "    if s['label'] == \"NEGATIVE\":\n",
        "      return round(100-s['score']*100)\n",
        "    return round(s['score']*100)\n",
        "\n",
        "def generateSentHistForThread(thread,nbins=4):\n",
        "  a = [processSentiment(sentiment_pipeline([p.text_comment])[0])\n",
        "     for p in thread.replies]\n",
        "  fig, ax = plt.subplots(figsize =(10, 7))\n",
        "  ax.hist(a, bins = [100/nbins*i for i in range(nbins+1)])\n",
        "  plt.show()\n",
        "\n",
        "def displayThreadInfo(board,id,nbins=4):\n",
        "  thread = getThread(board,id)\n",
        "  printTopicLine(thread)\n",
        "  generateSentHistForThread(thread,nbins=nbins)"
      ],
      "metadata": {
        "id": "0yJewcIwmGhP"
      },
      "execution_count": null,
      "outputs": []
    },
    {
      "cell_type": "code",
      "source": [
        "displayThreadInfo('pol',406458162)"
      ],
      "metadata": {
        "colab": {
          "base_uri": "https://localhost:8080/",
          "height": 445
        },
        "id": "MtDsvQ_II_T-",
        "outputId": "21ef45e3-8c43-46fa-ed97-b0549cc9df3f"
      },
      "execution_count": null,
      "outputs": [
        {
          "output_type": "stream",
          "name": "stdout",
          "text": [
            ">Ye (formerly known as Kanye West)\n"
          ]
        },
        {
          "output_type": "display_data",
          "data": {
            "text/plain": [
              "<Figure size 720x504 with 1 Axes>"
            ],
            "image/png": "[encoded data removed]"
          },
          "metadata": {
            "needs_background": "light"
          }
        }
      ]
    },
    {
      "cell_type": "code",
      "source": [
        "displayThreadInfo('pol',406433807)"
      ],
      "metadata": {
        "colab": {
          "base_uri": "https://localhost:8080/",
          "height": 445
        },
        "id": "4dq6KdTqpY_L",
        "outputId": "79888b1c-f91f-447c-ab88-eebe937c34a8"
      },
      "execution_count": null,
      "outputs": [
        {
          "output_type": "stream",
          "name": "stdout",
          "text": [
            "How is Milo making a comeback, isn't he a pedophile?\n"
          ]
        },
        {
          "output_type": "display_data",
          "data": {
            "text/plain": [
              "<Figure size 720x504 with 1 Axes>"
            ],
            "image/png": "[encoded data removed]"
          },
          "metadata": {
            "needs_background": "light"
          }
        }
      ]
    },
    {
      "cell_type": "code",
      "source": [
        "displayThreadInfo('pol',406543237)"
      ],
      "metadata": {
        "colab": {
          "base_uri": "https://localhost:8080/",
          "height": 445
        },
        "id": "Pn79caLjXWhj",
        "outputId": "433f63b4-e897-424f-ca63-9cba2912d422"
      },
      "execution_count": null,
      "outputs": [
        {
          "output_type": "stream",
          "name": "stdout",
          "text": [
            "PRESIDENT DONALD J TRUMP @POTUS45\n"
          ]
        },
        {
          "output_type": "display_data",
          "data": {
            "text/plain": [
              "<Figure size 720x504 with 1 Axes>"
            ],
            "image/png": "[encoded data removed]"
          },
          "metadata": {
            "needs_background": "light"
          }
        }
      ]
    },
    {
      "cell_type": "code",
      "source": [
        "b = 'pol'\n",
        "for t in getThreads('pol'):\n",
        "  if t.replies:\n",
        "    try:\n",
        "      displayThreadInfo(b, t.id)\n",
        "    except:\n",
        "      pass\n",
        "      # print('Length exception')"
      ],
      "metadata": {
        "colab": {
          "base_uri": "https://localhost:8080/",
          "height": 1000
        },
        "id": "2Eq5lgnb9RV2",
        "outputId": "99e86bab-97e0-4d47-a009-b9bb5b79bac9"
      },
      "execution_count": null,
      "outputs": [
        {
          "output_type": "stream",
          "name": "stdout",
          "text": [
            ">you'll never take my gu-ACK\n"
          ]
        },
        {
          "output_type": "display_data",
          "data": {
            "text/plain": [
              "<Figure size 720x504 with 1 Axes>"
            ],
            "image/png": "[encoded data removed]"
          },
          "metadata": {
            "needs_background": "light"
          }
        },
        {
          "output_type": "stream",
          "name": "stdout",
          "text": [
            "get it whites ?\n"
          ]
        },
        {
          "output_type": "display_data",
          "data": {
            "text/plain": [
              "<Figure size 720x504 with 1 Axes>"
            ],
            "image/png": "[encoded data removed]"
          },
          "metadata": {
            "needs_background": "light"
          }
        },
        {
          "output_type": "stream",
          "name": "stdout",
          "text": [
            "IMMINENT CIVIL WAR IN CANADA\n"
          ]
        },
        {
          "output_type": "display_data",
          "data": {
            "text/plain": [
              "<Figure size 720x504 with 1 Axes>"
            ],
            "image/png": "[encoded data removed]"
          },
          "metadata": {
            "needs_background": "light"
          }
        },
        {
          "output_type": "stream",
          "name": "stdout",
          "text": [
            "Do they have the balls to actually do it?\n"
          ]
        },
        {
          "output_type": "display_data",
          "data": {
            "text/plain": [
              "<Figure size 720x504 with 1 Axes>"
            ],
            "image/png": "[encoded data removed]"
          },
          "metadata": {
            "needs_background": "light"
          }
        },
        {
          "output_type": "stream",
          "name": "stdout",
          "text": [
            "Been trying to find a labourer for a small carpentry subcontracting crew. Every kid under 25 seems to be incompetent.. Lots of them seem to live their entire lives on Discord servers and what not.\n"
          ]
        },
        {
          "output_type": "display_data",
          "data": {
            "text/plain": [
              "<Figure size 720x504 with 1 Axes>"
            ],
            "image/png": "[encoded data removed]"
          },
          "metadata": {
            "needs_background": "light"
          }
        },
        {
          "output_type": "stream",
          "name": "stdout",
          "text": [
            "New toss\n"
          ]
        },
        {
          "output_type": "display_data",
          "data": {
            "text/plain": [
              "<Figure size 720x504 with 1 Axes>"
            ],
            "image/png": "[encoded data removed]"
          },
          "metadata": {
            "needs_background": "light"
          }
        },
        {
          "output_type": "stream",
          "name": "stdout",
          "text": [
            "What the FUCK happened to Lake Mead?\n"
          ]
        },
        {
          "output_type": "display_data",
          "data": {
            "text/plain": [
              "<Figure size 720x504 with 1 Axes>"
            ],
            "image/png": "[encoded data removed]"
          },
          "metadata": {
            "needs_background": "light"
          }
        },
        {
          "output_type": "stream",
          "name": "stdout",
          "text": [
            "This weird american gay freak politician was arrested for stealing somebody's suitcase at an airport. What even are americans anymore?\n"
          ]
        },
        {
          "output_type": "display_data",
          "data": {
            "text/plain": [
              "<Figure size 720x504 with 1 Axes>"
            ],
            "image/png": "[encoded data removed]"
          },
          "metadata": {
            "needs_background": "light"
          }
        },
        {
          "output_type": "stream",
          "name": "stdout",
          "text": [
            "Why is he advertising pedo Balenciaga with Ye 2024 on it?\n"
          ]
        },
        {
          "output_type": "display_data",
          "data": {
            "text/plain": [
              "<Figure size 720x504 with 1 Axes>"
            ],
            "image/png": "[encoded data removed]"
          },
          "metadata": {
            "needs_background": "light"
          }
        },
        {
          "output_type": "stream",
          "name": "stdout",
          "text": [
            "How exactly is it possible for this to happen in the \"most efficient system of all time\"\n"
          ]
        },
        {
          "output_type": "display_data",
          "data": {
            "text/plain": [
              "<Figure size 720x504 with 1 Axes>"
            ],
            "image/png": "[encoded data removed]"
          },
          "metadata": {
            "needs_background": "light"
          }
        },
        {
          "output_type": "stream",
          "name": "stdout",
          "text": [
            "Who or what was mimicing humans during our evolution that created the ability to spot the Uncanny Valley down to such precise levels that even with modern technology it is extremely hard to fool a person with a mimic?\n"
          ]
        },
        {
          "output_type": "display_data",
          "data": {
            "text/plain": [
              "<Figure size 720x504 with 1 Axes>"
            ],
            "image/png": "[encoded data removed]"
          },
          "metadata": {
            "needs_background": "light"
          }
        },
        {
          "output_type": "stream",
          "name": "stdout",
          "text": [
            ">a well regulated militia\n"
          ]
        },
        {
          "output_type": "display_data",
          "data": {
            "text/plain": [
              "<Figure size 720x504 with 1 Axes>"
            ],
            "image/png": "[encoded data removed]"
          },
          "metadata": {
            "needs_background": "light"
          }
        },
        {
          "output_type": "stream",
          "name": "stdout",
          "text": [
            "Are mexicans even human?\n"
          ]
        },
        {
          "output_type": "display_data",
          "data": {
            "text/plain": [
              "<Figure size 720x504 with 1 Axes>"
            ],
            "image/png": "[encoded data removed]"
          },
          "metadata": {
            "needs_background": "light"
          }
        },
        {
          "output_type": "stream",
          "name": "stdout",
          "text": [
            ">Ye (formerly known as Kanye West)\n"
          ]
        },
        {
          "output_type": "display_data",
          "data": {
            "text/plain": [
              "<Figure size 720x504 with 1 Axes>"
            ],
            "image/png": "[encoded data removed]"
          },
          "metadata": {
            "needs_background": "light"
          }
        },
        {
          "output_type": "stream",
          "name": "stdout",
          "text": [
            "I'm Black and hold a masters in forensic accounting. I likely pay more in taxes than a good chunk of you combined. I also had or no hate or resentment towards white people. I married a black woman, we both vote Republican and are planning on having our second child in the coming months.\n"
          ]
        },
        {
          "output_type": "display_data",
          "data": {
            "text/plain": [
              "<Figure size 720x504 with 1 Axes>"
            ],
            "image/png": "[encoded data removed]"
          },
          "metadata": {
            "needs_background": "light"
          }
        },
        {
          "output_type": "stream",
          "name": "stdout",
          "text": [
            "My dream is to move to some traditional place like picrel. \n"
          ]
        },
        {
          "output_type": "display_data",
          "data": {
            "text/plain": [
              "<Figure size 720x504 with 1 Axes>"
            ],
            "image/png": "[encoded data removed]"
          },
          "metadata": {
            "needs_background": "light"
          }
        }
      ]
    },
    {
      "cell_type": "code",
      "source": [
        "!pip install textrazor\n",
        "!pip install htmlentities"
      ],
      "metadata": {
        "colab": {
          "base_uri": "https://localhost:8080/"
        },
        "id": "z3xmPppQP25q",
        "outputId": "fedf09fa-f802-45c4-c604-bc5afe360e75"
      },
      "execution_count": null,
      "outputs": [
        {
          "output_type": "stream",
          "name": "stdout",
          "text": [
            "Looking in indexes: https://pypi.org/simple, https://us-python.pkg.dev/colab-wheels/public/simple/\n",
            "Collecting textrazor\n",
            "  Downloading textrazor-1.4.0.tar.gz (16 kB)\n",
            "Building wheels for collected packages: textrazor\n",
            "  Building wheel for textrazor (setup.py) ... \u001b[?25l\u001b[?25hdone\n",
            "  Created wheel for textrazor: filename=textrazor-1.4.0-py3-none-any.whl size=17021 sha256=125e92491bcc388fb48af0ab3704f385d1c8d6d97553594ecef67cf5f0ef0640\n",
            "  Stored in directory: /root/.cache/pip/wheels/2e/3e/83/d41e12d797f331eeed32b9a37eae056104c5736209e0cc127c\n",
            "Successfully built textrazor\n",
            "Installing collected packages: textrazor\n",
            "Successfully installed textrazor-1.4.0\n",
            "Looking in indexes: https://pypi.org/simple, https://us-python.pkg.dev/colab-wheels/public/simple/\n",
            "Collecting htmlentities\n",
            "  Downloading htmlentities-0.3.0-py3-none-any.whl (2.8 kB)\n",
            "Installing collected packages: htmlentities\n",
            "Successfully installed htmlentities-0.3.0\n"
          ]
        }
      ]
    },
    {
      "cell_type": "code",
      "source": [
        "import spacy\n",
        "from spacy import displacy\n",
        "import re\n",
        "import htmlentities\n",
        "from collections import defaultdict\n",
        "\n",
        "NER = spacy.load(\"en_core_web_sm\")\n",
        "\n",
        "def convert_html_entities(s):\n",
        "    matches = re.findall(\"&#\\d+;\", s)\n",
        "    if len(matches) > 0:\n",
        "        hits = set(matches)\n",
        "        for hit in hits:\n",
        "            name = hit[2:-1]\n",
        "            try:\n",
        "                entnum = int(name)\n",
        "                s = s.replace(hit, chr(entnum))\n",
        "            except ValueError:\n",
        "                pass\n",
        "\n",
        "    matches = re.findall(\"&#[xX][0-9a-fA-F]+;\", s)\n",
        "    if len(matches) > 0:\n",
        "        hits = set(matches)\n",
        "        for hit in hits:\n",
        "            hex = hit[3:-1]\n",
        "            try:\n",
        "                entnum = int(hex, 16)\n",
        "                s = s.replace(hit, chr(entnum))\n",
        "            except ValueError:\n",
        "                pass\n",
        "\n",
        "    matches = re.findall(\"&\\w+;\", s)\n",
        "    hits = set(matches)\n",
        "    amp = \"&amp;\"\n",
        "    if amp in hits:\n",
        "        hits.remove(amp)\n",
        "    for hit in hits:\n",
        "        name = hit[1:-1]\n",
        "        if name in htmlentities.name2codepoint:\n",
        "            s = s.replace(hit, chr(htmlentities.name2codepoint[name]))\n",
        "    s = s.replace(amp, \"&\")\n",
        "    return s \n",
        "\n",
        "def return_zero():\n",
        "  return 0\n",
        "\n",
        "def returnEntitiesFromAllOfThread(thread,termdict=None):\n",
        "  topic = \"\" if thread.topic.subject is None else thread.topic.subject\n",
        "  comment = \"\" if thread.topic.text_comment is None else thread.topic.text_comment\n",
        "  replies = [r.text_comment for r in thread.replies if r.text_comment is not None]\n",
        "  replies = \" \".join(replies)\n",
        "  # print(replies[:10000])\n",
        "  text=convert_html_entities(topic+\" \"+comment+\" \"+replies)\n",
        "  return returnEntities(text,termdict)\n",
        "\n",
        "\n",
        "def returnThreadEntities(thread):\n",
        "  topic = \"\" if thread.topic.subject is None else thread.topic.subject\n",
        "  comment = \"\" if thread.topic.text_comment is None else thread.topic.text_comment\n",
        "  text=convert_html_entities(topic+\" \"+comment)\n",
        "  return returnEntities(text)\n",
        "\n",
        "def returnEntities(text,termdict=None):\n",
        "  text1= NER(text)\n",
        "  if termdict is None:\n",
        "    termdict = defaultdict(return_zero)\n",
        "  for word in text1.ents:\n",
        "    if '.' not in word.text and not word.text.isnumeric() and word.label_ != \"CARDINAL\" and word.label_ != \"ORDINAL\":\n",
        "      termdict[f\"{word.text} {word.label_}\"]+=1\n",
        "  termdict = dict(sorted(termdict.items(), key=lambda item: item[1], reverse=True))\n",
        "  return termdict\n",
        "\n",
        "def getThreadsSortedByPopularity(board):\n",
        "  allthreads = getThreads(board,allPages=True)\n",
        "  allthreads = sorted(allthreads, key=lambda item: item.num_replies, reverse=True)\n",
        "  return allthreads\n",
        "\n",
        "def returnEntitiesAcrossBoard(board):\n",
        "  topThreads = getThreadsSortedByPopularity(board)\n",
        "  termdict = defaultdict(return_zero)\n",
        "  for t in topThreads:\n",
        "    returnEntitiesFromAllOfThread(t,termdict)\n",
        "  termdict = dict(sorted(termdict.items(), key=lambda item: item[1], reverse=True))\n",
        "  return termdict\n",
        "\n",
        "def printTopTermsForBoards(n=5):\n",
        "  for b in basc_py4chan.get_all_boards():\n",
        "    print(b.name)\n",
        "    td = returnEntitiesAcrossBoard(b.name)\n",
        "    td = dict(sorted(td.items(), key=lambda item: item[1], reverse=True)[:n])\n",
        "    print(td)"
      ],
      "metadata": {
        "id": "ta6mDpdDNBun"
      },
      "execution_count": null,
      "outputs": []
    },
    {
      "cell_type": "code",
      "source": [
        "returnEntitiesAcrossBoard('pol')"
      ],
      "metadata": {
        "colab": {
          "base_uri": "https://localhost:8080/"
        },
        "id": "zGhBnWjQUmDn",
        "outputId": "77afe4b9-bf89-493f-ad99-045301a44728"
      },
      "execution_count": null,
      "outputs": [
        {
          "output_type": "execute_result",
          "data": {
            "text/plain": [
              "{'Jews NORP': 44,\n",
              " 'Ukraine GPE': 26,\n",
              " 'Russia GPE': 25,\n",
              " 'Jewish NORP': 22,\n",
              " 'US GPE': 19,\n",
              " 'jewish NORP': 14,\n",
              " 'Ye PERSON': 14,\n",
              " 'Trump ORG': 14,\n",
              " 'America GPE': 14,\n",
              " 'China GPE': 12,\n",
              " 'UK GPE': 11,\n",
              " 'Israel GPE': 11,\n",
              " 'American NORP': 10,\n",
              " 'Canada GPE': 10,\n",
              " 'inb4 ORG': 10,\n",
              " 'EU ORG': 9,\n",
              " 'today DATE': 8,\n",
              " 'Kanye GPE': 8,\n",
              " 'Ukrainian NORP': 7,\n",
              " 'Chinese NORP': 7,\n",
              " 'CCP ORG': 7,\n",
              " 'German NORP': 7,\n",
              " 'LOL ORG': 7,\n",
              " 'Europe LOC': 7,\n",
              " 'Patriot ORG': 6,\n",
              " 'Russian NORP': 6,\n",
              " 'English LANGUAGE': 6,\n",
              " 'USA GPE': 6,\n",
              " 'Alberta GPE': 6,\n",
              " 'Republicans NORP': 6,\n",
              " 'Hitler PERSON': 6,\n",
              " 'jews NORP': 6,\n",
              " 'republicans NORP': 6,\n",
              " 'NATO ORG': 5,\n",
              " 'Germany GPE': 5,\n",
              " 'CNN ORG': 5,\n",
              " 'Talmud ORG': 5,\n",
              " 'german NORP': 5,\n",
              " 'russia GPE': 5,\n",
              " 'Christianity NORP': 5,\n",
              " 'Americans NORP': 5,\n",
              " 'Pro-Russian NORP': 4,\n",
              " 'Bakhmut ORG': 4,\n",
              " 'Russians NORP': 4,\n",
              " 'Finland GPE': 4,\n",
              " '90% PERCENT': 4,\n",
              " 'Biden PERSON': 4,\n",
              " 'Today DATE': 4,\n",
              " 'BC ORG': 4,\n",
              " 'Milo PERSON': 4,\n",
              " 'French NORP': 4,\n",
              " 'Twitter PRODUCT': 4,\n",
              " 'Apple ORG': 4,\n",
              " 'Jordan Peterson PERSON': 4,\n",
              " 'american NORP': 4,\n",
              " '100% PERCENT': 4,\n",
              " 'Liechtenstein PERSON': 4,\n",
              " 'Islam ORG': 4,\n",
              " 'china GPE': 4,\n",
              " 'israel GPE': 4,\n",
              " 'muslim NORP': 4,\n",
              " 'Sintermas PERSON': 4,\n",
              " 'Kiker PERSON': 4,\n",
              " 'Belarus GPE': 3,\n",
              " 'British NORP': 3,\n",
              " 'Tuesday DATE': 3,\n",
              " 'Obama PERSON': 3,\n",
              " 'Kremlin ORG': 3,\n",
              " 'Christians NORP': 3,\n",
              " 'Japanese NORP': 3,\n",
              " 'ZOG ORG': 3,\n",
              " 'CIA ORG': 3,\n",
              " 'Nick Fuentes PERSON': 3,\n",
              " 'Florida GPE': 3,\n",
              " 'Jesus PERSON': 3,\n",
              " 'West LOC': 3,\n",
              " 'BLM ORG': 3,\n",
              " 'Democrats NORP': 3,\n",
              " 'Irish NORP': 3,\n",
              " 'Stalin PERSON': 3,\n",
              " 'Jew NORP': 3,\n",
              " 'Klaus Schwab ORG': 3,\n",
              " 'Jew PERSON': 3,\n",
              " 'tim PERSON': 3,\n",
              " 'Christian NORP': 3,\n",
              " 'Isaac PERSON': 3,\n",
              " 'europe LOC': 3,\n",
              " 'christians NORP': 3,\n",
              " 'thousands of years DATE': 3,\n",
              " 'Twitter PERSON': 3,\n",
              " 'Chavez PERSON': 3,\n",
              " 'Hollywood GPE': 3,\n",
              " 'america GPE': 3,\n",
              " 'Medvedev PERSON': 2,\n",
              " 'Polish NORP': 2,\n",
              " 'Stoltenberg GPE': 2,\n",
              " 'Ozarianivka ORG': 2,\n",
              " 'Armenian PM Pashinyan TIME': 2,\n",
              " 'Armenia GPE': 2,\n",
              " 'Azerbaijan GPE': 2,\n",
              " 'AFU ORG': 2,\n",
              " '6:00 am TIME': 2,\n",
              " 'November 27th DATE': 2,\n",
              " 'Ireland GPE': 2,\n",
              " 'Romania GPE': 2,\n",
              " 'Moldova PERSON': 2,\n",
              " 'Holodomor PERSON': 2,\n",
              " 'Ukrainians NORP': 2,\n",
              " 'Sea King LOC': 2,\n",
              " 'Synkivka ORG': 2,\n",
              " 'Kharkov Oblast PERSON': 2,\n",
              " 'Dutch NORP': 2,\n",
              " 'Shoot-Down PERSON': 2,\n",
              " 'Igor \"Strelkov\" Girkin PERSON': 2,\n",
              " 'Israeli NORP': 2,\n",
              " 'Telegram Channels ORG': 2,\n",
              " 'UA ORG': 2,\n",
              " 'germans NORP': 2,\n",
              " 'years DATE': 2,\n",
              " 'TANKS ORG': 2,\n",
              " 'mossad ORG': 2,\n",
              " 'Iranian NORP': 2,\n",
              " 'Parliament ORG': 2,\n",
              " 'Iran GPE': 2,\n",
              " 'Railway ORG': 2,\n",
              " 'Poland GPE': 2,\n",
              " 'Holocaust EVENT': 2,\n",
              " 'Nazi Germany GPE': 2,\n",
              " '99% PERCENT': 2,\n",
              " 'Judaism ORG': 2,\n",
              " 'Farage ORG': 2,\n",
              " 'tomorrow DATE': 2,\n",
              " 'Germ Theory ORG': 2,\n",
              " 'months DATE': 2,\n",
              " 'World Cup EVENT': 2,\n",
              " '50% PERCENT': 2,\n",
              " 'Ben Shapiro PERSON': 2,\n",
              " 'EFR ORG': 2,\n",
              " 'november DATE': 2,\n",
              " 'earlier this year DATE': 2,\n",
              " 'asians NORP': 2,\n",
              " 'European NORP': 2,\n",
              " 'asian NORP': 2,\n",
              " '10% PERCENT': 2,\n",
              " 'Hispanics NORP': 2,\n",
              " 'mexicans NORP': 2,\n",
              " '7% PERCENT': 2,\n",
              " '1 sick day DATE': 2,\n",
              " '25% PERCENT': 2,\n",
              " 'Satanists ORG': 2,\n",
              " 'Republican NORP': 2,\n",
              " 'Calgary GPE': 2,\n",
              " 'DeSantis PRODUCT': 2,\n",
              " 'Epstein/Maxwell ORG': 2,\n",
              " 'Bernie PERSON': 2,\n",
              " 'YouTube ORG': 2,\n",
              " 'french NORP': 2,\n",
              " 'Quebec GPE': 2,\n",
              " 'Rubicon ORG': 2,\n",
              " 'russian NORP': 2,\n",
              " 'Kanye West GPE': 2,\n",
              " 'Jesus Christ PERSON': 2,\n",
              " 'Alex Jones PERSON': 2,\n",
              " 'DOT ORG': 2,\n",
              " 'Alphabet GPE': 2,\n",
              " 'META ORG': 2,\n",
              " 'Amazon ORG': 2,\n",
              " 'GOP ORG': 2,\n",
              " 'chicago GPE': 2,\n",
              " 'Britain GPE': 2,\n",
              " '500k ORG': 2,\n",
              " 'Nick PERSON': 2,\n",
              " 'Latvians NORP': 2,\n",
              " '2nd DATE': 2,\n",
              " 'Nazi NORP': 2,\n",
              " 'fuckin GPE': 2,\n",
              " 'Joos PERSON': 2,\n",
              " 'LGBT PERSON': 2,\n",
              " 'The Federal Government ORG': 2,\n",
              " 'Fed ORG': 2,\n",
              " 'Earth LOC': 2,\n",
              " 'Switzerland GPE': 2,\n",
              " 'Muslim NORP': 2,\n",
              " 'WSJ ORG': 2,\n",
              " 'RNC ORG': 2,\n",
              " 'nick GPE': 2,\n",
              " 'these days DATE': 2,\n",
              " 'Underdog GPE': 2,\n",
              " 'Jesus ORG': 2,\n",
              " 'Fuentes ORG': 2,\n",
              " 'White ORG': 2,\n",
              " 'Afghanistan GPE': 2,\n",
              " 'ISP ORG': 2,\n",
              " 'Google ORG': 2,\n",
              " 'Italy GPE': 2,\n",
              " 'Italian NORP': 2,\n",
              " 'Kike PERSON': 2,\n",
              " 'Hugo Chavez PERSON': 2,\n",
              " 'San Francisco GPE': 2,\n",
              " 'Boudin PERSON': 2,\n",
              " 'Venezuela GPE': 2,\n",
              " 'democrats NORP': 2,\n",
              " 'year DATE': 2,\n",
              " 'democrat NORP': 2,\n",
              " 'Monday DATE': 2,\n",
              " 'Christmas DATE': 2,\n",
              " 'HOUSE ORG': 2,\n",
              " 'the mill war crimes ORG': 2,\n",
              " 'White American NORP': 2,\n",
              " 'Bill Gates PERSON': 2,\n",
              " 'Windows ORG': 2,\n",
              " 'Elon PRODUCT': 2,\n",
              " 'Australia GPE': 2,\n",
              " 'the jewish cabal ORG': 2,\n",
              " 'IR ORG': 2,\n",
              " 'every week DATE': 2,\n",
              " 'the next month DATE': 2,\n",
              " 'Putin PERSON': 2,\n",
              " 'Faggots ORG': 2,\n",
              " 'Slovakia ORG': 2,\n",
              " 'Western Europe LOC': 2,\n",
              " '70% PERCENT': 1,\n",
              " 'Ukronazi ORG': 1,\n",
              " 'the Middle East LOC': 1,\n",
              " 'Luka PERSON': 1,\n",
              " 'italian NORP': 1,\n",
              " 'polish NORP': 1,\n",
              " 'Queen PERSON': 1,\n",
              " 'Susan Hussey PERSON': 1,\n",
              " 'Ngozi Fulani PERSON': 1,\n",
              " 'NGOZI ORG': 1,\n",
              " '406549478\\n  DATE': 1,\n",
              " 'The Bush years DATE': 1,\n",
              " 'Marxist NORP': 1,\n",
              " 'Eritrea GPE': 1,\n",
              " 'Ethiopia GPE': 1,\n",
              " 'the world Bank ORG': 1,\n",
              " '10+ year DATE': 1,\n",
              " 'the middle east LOC': 1,\n",
              " 'Panda ORG': 1,\n",
              " 'all day DATE': 1,\n",
              " 'Psssst CCP ORG': 1,\n",
              " 'Ye, Elon, Fuentes ORG': 1,\n",
              " 'grandeur ORG': 1,\n",
              " 'Saiyans NORP': 1,\n",
              " 'Saiya-jin ORG': 1,\n",
              " 'Dragon Ball ORG': 1,\n",
              " 'manga GPE': 1,\n",
              " 'Dragon Ball Z PERSON': 1,\n",
              " 'Dragon Ball GT PERSON': 1,\n",
              " 'Dragon Ball Super ORG': 1,\n",
              " 'FED ORG': 1,\n",
              " 'PPP ORG': 1,\n",
              " 'Main Street Facility ORG': 1,\n",
              " 'Society ORG': 1,\n",
              " 'UKROP ORG': 1,\n",
              " 'the NATO Council ORG': 1,\n",
              " 'ukrainian NORP': 1,\n",
              " 'EuroCom ORG': 1,\n",
              " 'EuroCommission ORG': 1,\n",
              " 'SMO ORG': 1,\n",
              " 'the Lvov Regional Council ORG': 1,\n",
              " 'the Ukrainian Orthodox Church ORG': 1,\n",
              " 'the Orthodox Church ORG': 1,\n",
              " 'Kherson GPE': 1,\n",
              " 'Dnepropetrovsk GPE': 1,\n",
              " 'Zaporozhye GPE': 1,\n",
              " 'SCO ORG': 1,\n",
              " 'Vladimir Makei PERSON': 1,\n",
              " 'Wali PERSON': 1,\n",
              " 'Farsi PERSON': 1,\n",
              " 'Day 107 DATE': 1,\n",
              " 'KINO ORG': 1,\n",
              " '84-85 DATE': 1,\n",
              " 'Day 82 DATE': 1,\n",
              " '80-81 Slow Days TIME': 1,\n",
              " 'Day 77 DATE': 1,\n",
              " 'Day 76 DATE': 1,\n",
              " 'Jewden Peterson PERSON': 1,\n",
              " 'jordan GPE': 1,\n",
              " 'Kurwa PERSON': 1,\n",
              " 'Poles NORP': 1,\n",
              " 'Somalit NORP': 1,\n",
              " 'about 20 million MONEY': 1,\n",
              " 'Anne Frank PERSON': 1,\n",
              " 'Orthodox NORP': 1,\n",
              " 'Hasidic Jews NORP': 1,\n",
              " 'Reform Synagogue PERSON': 1,\n",
              " 'Torah PERSON': 1,\n",
              " 'Reform ORG': 1,\n",
              " 'less than 10% PERCENT': 1,\n",
              " 'Temple GPE': 1,\n",
              " 'Reform Judaism PERSON': 1,\n",
              " 'kazarian ORG': 1,\n",
              " 'jewish\\nExcept ORG': 1,\n",
              " 'Palestinians NORP': 1,\n",
              " \"Look, Goy--I'm WORK_OF_ART\": 1,\n",
              " 'Based\" Blacks WORK_OF_ART': 1,\n",
              " 'TRUMP ORG': 1,\n",
              " 'Liz Harrington PERSON': 1,\n",
              " 'Trump Spox ORG': 1,\n",
              " 'Donald J Trump Presidential Library PERSON': 1,\n",
              " 'ARCHIVED ORG': 1,\n",
              " 'VETERANS DAY ORG': 1,\n",
              " 'Arizona GPE': 1,\n",
              " 'Trump Interview w/Markie ORG': 1,\n",
              " 'Gestapo 8/9/22 PERSON': 1,\n",
              " 'Bless the USA ORG': 1,\n",
              " 'Donald J Trump PERSON': 1,\n",
              " 'Guan Yu PERSON': 1,\n",
              " 'Mars LOC': 1,\n",
              " 'Balenciaga NORP': 1,\n",
              " '75 years old DATE': 1,\n",
              " 'Kraut PERSON': 1,\n",
              " 'Meme Collections ORG': 1,\n",
              " 'Create Memes ORG': 1,\n",
              " 'Memes PERSON': 1,\n",
              " 'Agitprop ORG': 1,\n",
              " 'Unrecht ORG': 1,\n",
              " 'Counter ORG': 1,\n",
              " 'Schwarze Fahne PERSON': 1,\n",
              " 'EinProzent ORG': 1,\n",
              " 'Der Schattenmacher PERSON': 1,\n",
              " 'Learn German PERSON': 1,\n",
              " 'Sütterlin ORG': 1,\n",
              " 'Flügel TV ORG': 1,\n",
              " 'Wiebkes ORG': 1,\n",
              " 'Idaho Quad Murders How ORG': 1,\n",
              " 'FBI ORG': 1,\n",
              " 'Xana PERSON': 1,\n",
              " 'latin NORP': 1,\n",
              " 'nigel farage PERSON': 1,\n",
              " 'Vaxxies Are Fukt WORK_OF_ART': 1,\n",
              " 'Masanori Fukushima PERSON': 1,\n",
              " 'Emeritus PERSON': 1,\n",
              " 'Kyoto University: ORG': 1,\n",
              " 'autoimmune DATE': 1,\n",
              " 'Cardiovascular ORG': 1,\n",
              " 'IgA PERSON': 1,\n",
              " 'the Ministry of Health, Labour and Welfare ORG': 1,\n",
              " 'a year 2100 DATE': 1,\n",
              " 'SUPPOSED GPE': 1,\n",
              " 'ROBOCOP ORG': 1,\n",
              " 'DREDD PERSON': 1,\n",
              " 'Demolition Man ORG': 1,\n",
              " 'Virus PRODUCT': 1,\n",
              " 'Mike Donio PERSON': 1,\n",
              " 'Empire GPE': 1,\n",
              " 'Industrialization ORG': 1,\n",
              " 'Climate Change ORG': 1,\n",
              " 'Science is Trust in Scientific Ignorance ORG': 1,\n",
              " 'Barry Rockx PERSON': 1,\n",
              " 'Science ORG': 1,\n",
              " 'May 72 DATE': 1,\n",
              " 'Vero E6 LAW': 1,\n",
              " 'Opti-MEM ORG': 1,\n",
              " 'Gibco ORG': 1,\n",
              " 'Vero ORG': 1,\n",
              " 'Steve Kirsch PERSON': 1,\n",
              " 'Men ORG': 1,\n",
              " 'Canadian NORP': 1,\n",
              " '15 year old DATE': 1,\n",
              " 'Venus LOC': 1,\n",
              " 'Serena Williams PERSON': 1,\n",
              " 'Messiah PRODUCT': 1,\n",
              " 'Pol PERSON': 1,\n",
              " 'Ditch WORK_OF_ART': 1,\n",
              " 'Comex ORG': 1,\n",
              " 'the entire month of november DATE': 1,\n",
              " 'EFP ORG': 1,\n",
              " 'CME Group/JPM ORG': 1,\n",
              " 'SLV ORG': 1,\n",
              " 'every single day DATE': 1,\n",
              " 'May-October DATE': 1,\n",
              " 'comex ORG': 1,\n",
              " 'this month DATE': 1,\n",
              " 'The last day of the month DATE': 1,\n",
              " 'December DATE': 1,\n",
              " 'DO ORG': 1,\n",
              " 'two more weeks DATE': 1,\n",
              " 'Dang ORG': 1,\n",
              " 'this year DATE': 1,\n",
              " 'christmas this year DATE': 1,\n",
              " 'Overlay NORP': 1,\n",
              " '93% PERCENT': 1,\n",
              " 'Northern European NORP': 1,\n",
              " 'noooooooo ORG': 1,\n",
              " 'arabs NORP': 1,\n",
              " 'african NORP': 1,\n",
              " 'African NORP': 1,\n",
              " 'SAT ORG': 1,\n",
              " 'Geometry ORG': 1,\n",
              " 'Algebra II ORG': 1,\n",
              " 'Iceland GPE': 1,\n",
              " 'Tribes PERSON': 1,\n",
              " 'the Canadian Rails ORG': 1,\n",
              " 'UNDRIP GPE': 1,\n",
              " 'Indian Country ORG': 1,\n",
              " 'Indian Territory PERSON': 1,\n",
              " 'the Ute Tribe ORG': 1,\n",
              " 'Indian NORP': 1,\n",
              " 'Navajo PERSON': 1,\n",
              " 'The Golden Path FAC': 1,\n",
              " 'Satanist PERSON': 1,\n",
              " 'Satan NORP': 1,\n",
              " 'earth LOC': 1,\n",
              " 'Satan WORK_OF_ART': 1,\n",
              " 'Asterion PRODUCT': 1,\n",
              " 'Evelyn de Rothschild PERSON': 1,\n",
              " 'the 30th of November 2022 DATE': 1,\n",
              " 'Inorganic NORP': 1,\n",
              " 'Jew ORG': 1,\n",
              " 'Chinese Protestors Emulate Canada ORG': 1,\n",
              " 'Trudeau Announces Support ORG': 1,\n",
              " 'Cucknada Justin Trudeau PERSON': 1,\n",
              " 'early last morning TIME': 1,\n",
              " 'Ottawa GPE': 1,\n",
              " 'Chad Leader PERSON': 1,\n",
              " 'Cucknada Justin Trudeau\\n PERSON': 1,\n",
              " 'Covid WORK_OF_ART': 1,\n",
              " '1889-1945 DATE': 1,\n",
              " 'A Man who Loved WORK_OF_ART': 1,\n",
              " 'Hearts GPE': 1,\n",
              " 'Heil Hitler PERSON': 1,\n",
              " 'YE24 PERSON': 1,\n",
              " 'the Democratic party ORG': 1,\n",
              " 'Gitmo FAC': 1,\n",
              " 'Tulsi GPE': 1,\n",
              " 'Covid PERSON': 1,\n",
              " 'The Noticing WORK_OF_ART': 1,\n",
              " 'Chappelle PERSON': 1,\n",
              " 'South Park LOC': 1,\n",
              " 'two years DATE': 1,\n",
              " 'two more years DATE': 1,\n",
              " 'House ORG': 1,\n",
              " 'Kamala GPE': 1,\n",
              " 'Hail Mary PERSON': 1,\n",
              " 'MAGA ORG': 1,\n",
              " 'Backpage ORG': 1,\n",
              " 'Templar Knights ORG': 1,\n",
              " 'Qanon WORK_OF_ART': 1,\n",
              " 'Harvey Weinstein PERSON': 1,\n",
              " 'Epstein PERSON': 1,\n",
              " 'James Bond PERSON': 1,\n",
              " 'VHS ORG': 1,\n",
              " 'GTFO ORG': 1,\n",
              " 'Trudeau PERSON': 1,\n",
              " 'Montreal GPE': 1,\n",
              " 'the east coast LOC': 1,\n",
              " 'Ontario GPE': 1,\n",
              " 'Years ago DATE': 1,\n",
              " 'Bathurst NB ORG': 1,\n",
              " 'Vancouver GPE': 1,\n",
              " 'west coast LOC': 1,\n",
              " 'FRONT ORG': 1,\n",
              " 'yesterday DATE': 1,\n",
              " 'SHTF ORG': 1,\n",
              " 'at least a decade DATE': 1,\n",
              " 'VMRO ORG': 1,\n",
              " 'NFSB ORG': 1,\n",
              " 'ATAKA ORG': 1,\n",
              " 'Vuzrazhdane(Revival PERSON': 1,\n",
              " 'tankie tier PERSON': 1,\n",
              " 'bulgarian NORP': 1,\n",
              " 'AF ORG': 1,\n",
              " 'feb 2021 DATE': 1,\n",
              " '5 years DATE': 1,\n",
              " 'Sam Hyde\\n\\nNEWS PERSON': 1,\n",
              " 'Sneako PERSON': 1,\n",
              " 'Turtle PRODUCT': 1,\n",
              " 'Zionists NORP': 1,\n",
              " 'Messianic Jewish Church ORG': 1,\n",
              " 'Thanksgiving DATE': 1,\n",
              " 'Jan 6ers DATE': 1,\n",
              " 'NewsNation Cuomo Interview ORG': 1,\n",
              " 'MIGAfags ORG': 1,\n",
              " 'FFS ORG': 1,\n",
              " 'South Korean NORP': 1,\n",
              " 'k3fef DATE': 1,\n",
              " 'night, 4724 DATE': 1,\n",
              " 'Daytime GPE': 1,\n",
              " 'EAM ORG': 1,\n",
              " 'OSINT ORG': 1,\n",
              " 'kino NORP': 1,\n",
              " 'WWII EVENT': 1,\n",
              " 'anti-Christian NORP': 1,\n",
              " 'the past several days DATE': 1,\n",
              " 'BITCH ORG': 1,\n",
              " 'next year DATE': 1,\n",
              " 'Christ GPE': 1,\n",
              " 'Mauna Loa PERSON': 1,\n",
              " 'Retama GPE': 1,\n",
              " 'Taupo ORG': 1,\n",
              " 'Over 2 inches QUANTITY': 1,\n",
              " 'Tsunami PERSON': 1,\n",
              " 'Massif PERSON': 1,\n",
              " 'Pacific Ocean LOC': 1,\n",
              " '900 miles QUANTITY': 1,\n",
              " 'Japan GPE': 1,\n",
              " 'East coast LOC': 1,\n",
              " 'subhumans NORP': 1,\n",
              " 'Tiki Tiki ORG': 1,\n",
              " 'Balenciaga GPE': 1,\n",
              " 'the Washington Post ORG': 1,\n",
              " 'Nuclear Tranny PERSON': 1,\n",
              " 'Brinton PERSON': 1,\n",
              " '10,000 MONEY': 1,\n",
              " 'five-year DATE': 1,\n",
              " 'Tiananmen Square FAC': 1,\n",
              " 'Treason PERSON': 1,\n",
              " 'AirDrop PRODUCT': 1,\n",
              " 'Shenyang GPE': 1,\n",
              " 'Changsha GPE': 1,\n",
              " 'Fuzhou GPE': 1,\n",
              " 'Xiamen GPE': 1,\n",
              " 'Shenzhen GPE': 1,\n",
              " 'Zhengzhou GPE': 1,\n",
              " 'Harbin GPE': 1,\n",
              " '15 days DATE': 1,\n",
              " 'their 5 year DATE': 1,\n",
              " 'the Railway Workers ORG': 1,\n",
              " 'Hyenas ORG': 1,\n",
              " 'detroit GPE': 1,\n",
              " 'a weekend DATE': 1,\n",
              " 'Charles tomorrow PERSON': 1,\n",
              " 'Scottish NORP': 1,\n",
              " 'Bongs ORG': 1,\n",
              " 'Paki PERSON': 1,\n",
              " 'BNP ORG': 1,\n",
              " 'Brexit PERSON': 1,\n",
              " 'the past few years DATE': 1,\n",
              " 'India GPE': 1,\n",
              " 'Modi GPE': 1,\n",
              " 'british NORP': 1,\n",
              " 'some 10 year DATE': 1,\n",
              " 'Conservatives NORP': 1,\n",
              " 'the past 4 days DATE': 1,\n",
              " 'Congrats NORP': 1,\n",
              " '8 years DATE': 1,\n",
              " 'Kys ORG': 1,\n",
              " 'DeSantis ORG': 1,\n",
              " 'Pwesident ORG': 1,\n",
              " 'germany GPE': 1,\n",
              " 'PhD WORK_OF_ART': 1,\n",
              " 'Holomodor GPE': 1,\n",
              " 'long years DATE': 1,\n",
              " 'Soros PERSON': 1,\n",
              " 'pro-Communist NORP': 1,\n",
              " 'early 20th century DATE': 1,\n",
              " 'Germans NORP': 1,\n",
              " 'HAHAHA ORG': 1,\n",
              " 'Russia Wich ORG': 1,\n",
              " 'Musk PERSON': 1,\n",
              " 'Euro LAW': 1,\n",
              " 'ECB ORG': 1,\n",
              " 'Social Security ORG': 1,\n",
              " 'Medicare ORG': 1,\n",
              " '20 years ago DATE': 1,\n",
              " 'B-21 PRODUCT': 1,\n",
              " 'this Friday DATE': 1,\n",
              " 'Erdogan PERSON': 1,\n",
              " 'Ukrainian GPE': 1,\n",
              " 'S-300 PRODUCT': 1,\n",
              " 'T-90 PRODUCT': 1,\n",
              " 'T-72 PRODUCT': 1,\n",
              " '15 years ago DATE': 1,\n",
              " '2 billion dollars MONEY': 1,\n",
              " 'a single year DATE': 1,\n",
              " 'Pfizer PERSON': 1,\n",
              " 'Jake Flint PERSON': 1,\n",
              " 'last saturday DATE': 1,\n",
              " 'a year after DATE': 1,\n",
              " 'the age of 25 DATE': 1,\n",
              " '12 feet QUANTITY': 1,\n",
              " 'waar ORG': 1,\n",
              " 'kan ORG': 1,\n",
              " '24 hour TIME': 1,\n",
              " 'nazi NORP': 1,\n",
              " 'Grey Pact ORG': 1,\n",
              " 'Non-Agression ORG': 1,\n",
              " 'Break GPE': 1,\n",
              " 'Nazis NORP': 1,\n",
              " 'Schwab PERSON': 1,\n",
              " '5 years ago DATE': 1,\n",
              " '$13 million MONEY': 1,\n",
              " 'the World Cup EVENT': 1,\n",
              " 'the quarters DATE': 1,\n",
              " 'semis ORG': 1,\n",
              " 'Olympics EVENT': 1,\n",
              " 'four more years DATE': 1,\n",
              " '4chan DATE': 1,\n",
              " '25 minutes TIME': 1,\n",
              " 'more than 25 minutes TIME': 1,\n",
              " 'OP PERSON': 1,\n",
              " 'MSM ORG': 1,\n",
              " 'MIA ORG': 1,\n",
              " '90k DATE': 1,\n",
              " 'BC PФ ORG': 1,\n",
              " 'Acceleration GPE': 1,\n",
              " 'Operation Car Wash WORK_OF_ART': 1,\n",
              " 'Clean Hands ORG': 1,\n",
              " 'Saints ORG': 1,\n",
              " \"Gendron Payton's PERSON\": 1,\n",
              " 'aus/pol/ ORG': 1,\n",
              " '406548167\\n1/2 DATE': 1,\n",
              " 'Nick Mullen PERSON': 1,\n",
              " 'Idaho 4 ORG': 1,\n",
              " 'the 1st DATE': 1,\n",
              " '2 trail cams QUANTITY': 1,\n",
              " 'YR ORG': 1,\n",
              " 'WERENT USED GPE': 1,\n",
              " 'NATIVE AMERICAN NORP': 1,\n",
              " 'WASNT A DRUG CARTEL WORK_OF_ART': 1,\n",
              " 'THE EXIT STRAGEY FAGGOT ORG': 1,\n",
              " 'MILES PERSON': 1,\n",
              " 'EITHEIR DELIBERATELY PERSON': 1,\n",
              " 'LAME FUENTES THREAD PERSON': 1,\n",
              " 'catholic NORP': 1,\n",
              " 'kabar GPE': 1,\n",
              " 'meme GPE': 1,\n",
              " 'Onion Rings ORG': 1,\n",
              " 'Facry PERSON': 1,\n",
              " 'Khukri PERSON': 1,\n",
              " 'Greta PERSON': 1,\n",
              " 'smart & ORG': 1,\n",
              " '56% PERCENT': 1,\n",
              " 'Replaced\\nNice ORG': 1,\n",
              " 'Iranians NORP': 1,\n",
              " 'Indians NORP': 1,\n",
              " 'Brooks PERSON': 1,\n",
              " 'Jennifer Dorrow PERSON': 1,\n",
              " 'WI Supreme Court ORG': 1,\n",
              " 'the supreme court ORG': 1,\n",
              " '83 years ago DATE': 1,\n",
              " '100 BILLION DEAD RUSSIANS MONEY': 1,\n",
              " 'Karelia GPE': 1,\n",
              " 'USSR GPE': 1,\n",
              " 'Tipper Gore PERSON': 1,\n",
              " 'Denver GPE': 1,\n",
              " 'Snider ORG': 1,\n",
              " 'Zappa PERSON': 1,\n",
              " 'Congress ORG': 1,\n",
              " 'Ultra-MAGA ORG': 1,\n",
              " 'College years DATE': 1,\n",
              " 'Tucker PERSON': 1,\n",
              " 'Charlie PERSON': 1,\n",
              " 'a decade DATE': 1,\n",
              " 'Mel PERSON': 1,\n",
              " \"YOU'RE JUST PERSON\": 1,\n",
              " 'EVIL SEWER PERSON': 1,\n",
              " 'JEWS NORP': 1,\n",
              " 'Petersen AI ORG': 1,\n",
              " 'joos PERSON': 1,\n",
              " 'Iraq GPE': 1,\n",
              " 'approximately $750k MONEY': 1,\n",
              " '40x DATE': 1,\n",
              " 'jooish phenomenon PERSON': 1,\n",
              " 'australian NORP': 1,\n",
              " 'Asians NORP': 1,\n",
              " 'Whites ORG': 1,\n",
              " 'Browns PERSON': 1,\n",
              " \"Ethnic Supremacy Over The Earth's WORK_OF_ART\": 1,\n",
              " 'Subhumans NORP': 1,\n",
              " 'Martha Stewart PERSON': 1,\n",
              " \"'24 DATE\": 1,\n",
              " 'Zion Biden ORG': 1,\n",
              " 'hebrew LANGUAGE': 1,\n",
              " 'english LANGUAGE': 1,\n",
              " 'Donny ORG': 1,\n",
              " 'Ivanka PERSON': 1,\n",
              " 'Putins ORG': 1,\n",
              " 'anti-Jewish NORP': 1,\n",
              " 'Christ ORG': 1,\n",
              " 'Semites NORP': 1,\n",
              " 'over a thousand years DATE': 1,\n",
              " 'european NORP': 1,\n",
              " 'Ngmi ORG': 1,\n",
              " 'moscow GPE': 1,\n",
              " 'Jokes PERSON': 1,\n",
              " 'Joe PERSON': 1,\n",
              " 'Twitter City GPE': 1,\n",
              " 'Elon ORG': 1,\n",
              " 'Twitter\\nCivil war WORK_OF_ART': 1,\n",
              " 'Silicon Valley LOC': 1,\n",
              " '120k PRODUCT': 1,\n",
              " 'Monarchy PERSON': 1,\n",
              " 'Population 38 ORG': 1,\n",
              " 'Germoney GPE': 1,\n",
              " 'Dresden GPE': 1,\n",
              " 'Juden Peterstein PERSON': 1,\n",
              " 'Jordan PERSON': 1,\n",
              " '406548900\\nPoor Jordan DATE': 1,\n",
              " 'twenty year old DATE': 1,\n",
              " 'Ukrainan GPE': 1,\n",
              " 'DNC ORG': 1,\n",
              " 'KYS ORG': 1,\n",
              " 'FTX ORG': 1,\n",
              " 'the little nerd ORG': 1,\n",
              " 'nick ORG': 1,\n",
              " 'bakedalaska GPE': 1,\n",
              " 'kami GPE': 1,\n",
              " 'Dostoyevsky PERSON': 1,\n",
              " 'peter pan PERSON': 1,\n",
              " 'Respect ORG': 1,\n",
              " 'Real Life WORK_OF_ART': 1,\n",
              " 'Tim Pool Hate Thread PERSON': 1,\n",
              " 'an hour TIME': 1,\n",
              " 'non-trinitarian NORP': 1,\n",
              " 'christian NORP': 1,\n",
              " 'bush PERSON': 1,\n",
              " 'Sweden Neo-Germanic Party ORG': 1,\n",
              " 'Aryan Victory WORK_OF_ART': 1,\n",
              " 'Swedish NORP': 1,\n",
              " 'the Neo-Germanic Party ORG': 1,\n",
              " 'Neo-Germanska Partiet ORG': 1,\n",
              " 'NGP2026 MONEY': 1,\n",
              " 'the next election year DATE': 1,\n",
              " 'Sweden GPE': 1,\n",
              " 'congress ORG': 1,\n",
              " 'Herr Sork PERSON': 1,\n",
              " 'Modest Mouse PERSON': 1,\n",
              " 'New Zealnd GPE': 1,\n",
              " 'weekly DATE': 1,\n",
              " 'Mary PERSON': 1,\n",
              " 'pagan GPE': 1,\n",
              " 'Spirit ORG': 1,\n",
              " 'Corinthians NORP': 1,\n",
              " 'Mystery ORG': 1,\n",
              " 'Sacrifice \\nChrist ORG': 1,\n",
              " 'Monte Cristo PERSON': 1,\n",
              " 'Cliffhanger\\nChrist ORG': 1,\n",
              " 'a Willing Sacrifice WORK_OF_ART': 1,\n",
              " 'Cliffhanger ORG': 1,\n",
              " 'Luke PERSON': 1,\n",
              " 'the 27th DATE': 1,\n",
              " 'Estonian NORP': 1,\n",
              " 'Spec-Op American Delta Forces ORG': 1,\n",
              " '406545089\\nPray DATE': 1,\n",
              " 'Serve Jesus PERSON': 1,\n",
              " 'Nattokinase Edition WORK_OF_ART': 1,\n",
              " 'Serrapeptase PRODUCT': 1,\n",
              " 'Nattokinase PERSON': 1,\n",
              " 'Nattokinase ORG': 1,\n",
              " 'Natto PERSON': 1,\n",
              " 'basedbeans NORP': 1,\n",
              " 'age 59 DATE': 1,\n",
              " 'Rockwell ORG': 1,\n",
              " 'Messiah WORK_OF_ART': 1,\n",
              " 'Zogald ORG': 1,\n",
              " 'the day DATE': 1,\n",
              " 'post-soviet NORP': 1,\n",
              " 'warsaw GPE': 1,\n",
              " 'marxist NORP': 1,\n",
              " 'the last two weeks DATE': 1,\n",
              " 'Tel Aviv GPE': 1,\n",
              " '9 months later DATE': 1,\n",
              " 'Taiwan GPE': 1,\n",
              " 'two more weeks/months/years/decades/centuries/millennia DATE': 1,\n",
              " 'dis ORG': 1,\n",
              " 'Oslo GPE': 1,\n",
              " 'Spanish NORP': 1,\n",
              " 'Europeans NORP': 1,\n",
              " 'Kyrgyzstan GPE': 1,\n",
              " 'Floyd PERSON': 1,\n",
              " 'alaska GPE': 1,\n",
              " 'Kanye Only ORG': 1,\n",
              " 'State ORG': 1,\n",
              " 'Texas GPE': 1,\n",
              " 'Desantis PRODUCT': 1,\n",
              " 'Twitter GPE': 1,\n",
              " 'AFpac ORG': 1,\n",
              " 'Andrew Tate PERSON': 1,\n",
              " 'Kiwi Farms PERSON': 1,\n",
              " 'kgb ORG': 1,\n",
              " 'DNS ORG': 1,\n",
              " 'Umm GPE': 1,\n",
              " 'the year DATE': 1,\n",
              " 'Pinocchio ORG': 1,\n",
              " \"Carlo Alberto's PERSON\": 1,\n",
              " 'Statuto Albertino WORK_OF_ART': 1,\n",
              " 'the Kingdom of Sardinia GPE': 1,\n",
              " 'Catholicism PERSON': 1,\n",
              " 'Waldensian NORP': 1,\n",
              " 'Disney ORG': 1,\n",
              " 'Jeff Epstein PERSON': 1,\n",
              " 'Italians NORP': 1,\n",
              " 'Video LOC': 1,\n",
              " 'FACTS ORG': 1,\n",
              " '6-85 TIME': 1,\n",
              " 'Delta ORG': 1,\n",
              " 'South Africa GPE': 1,\n",
              " 'jonah hill LOC': 1,\n",
              " 'Twitter Oy PERSON': 1,\n",
              " 'Ye West PERSON': 1,\n",
              " 'Chinks ORG': 1,\n",
              " 'Ethan Klein PERSON': 1,\n",
              " 'Samuel al PERSON': 1,\n",
              " 'Bashir Heyde PERSON': 1,\n",
              " 'a nice day DATE': 1,\n",
              " 'Weather Underground PERSON': 1,\n",
              " 'Worked LOC': 1,\n",
              " '70s DATE': 1,\n",
              " 'NY ORG': 1,\n",
              " 'Maduro PERSON': 1,\n",
              " 'Jimmy Dore PERSON': 1,\n",
              " 'Crown Heights LOC': 1,\n",
              " 'Niggers WORK_OF_ART': 1,\n",
              " 'DISCLOSE ORG': 1,\n",
              " 'Washington GPE': 1,\n",
              " 'a few weeks DATE': 1,\n",
              " 'Sam PERSON': 1,\n",
              " 'the jewish press ORG': 1,\n",
              " 'Democrat NORP': 1,\n",
              " 'one day DATE': 1,\n",
              " 'about 30,000 days DATE': 1,\n",
              " 'Ashkenazis PERSON': 1,\n",
              " 'Zion Biden PERSON': 1,\n",
              " 'Nuke America ORG': 1,\n",
              " 'Mafia ORG': 1,\n",
              " '406548823\\n10 years ago DATE': 1,\n",
              " '10 years ago DATE': 1,\n",
              " 'babylonian NORP': 1,\n",
              " '406546551\\nChristmas DATE': 1,\n",
              " 'the Nativity of Christ ORG': 1,\n",
              " 'Nativity ORG': 1,\n",
              " 'week end December 25th DATE': 1,\n",
              " 'Twitter LOC': 1,\n",
              " '30% PERCENT': 1,\n",
              " 'JewBelong NORP': 1,\n",
              " 'New Jersey GPE': 1,\n",
              " 'JewBelong ORG': 1,\n",
              " 'last June DATE': 1,\n",
              " 'New York GPE': 1,\n",
              " 'Boston GPE': 1,\n",
              " 'Las Vegas GPE': 1,\n",
              " 'Miami GPE': 1,\n",
              " 'South Florida GPE': 1,\n",
              " 'last month DATE': 1,\n",
              " 'February DATE': 1,\n",
              " 'non-Zionist NORP': 1,\n",
              " 'almost a year DATE': 1,\n",
              " 'TODAY DATE': 1,\n",
              " 'TODAY ORG': 1,\n",
              " 'Bust WORK_OF_ART': 1,\n",
              " 'just 75 years DATE': 1,\n",
              " 'AI ORG': 1,\n",
              " 'PewDiePie ORG': 1,\n",
              " 'ART ORG': 1,\n",
              " 'phd ORG': 1,\n",
              " 'ITT ORG': 1,\n",
              " '22 year old DATE': 1,\n",
              " 'European Americans NORP': 1,\n",
              " 'some Arab Muslims NORP': 1,\n",
              " 'Africans NORP': 1,\n",
              " 'White PERSON': 1,\n",
              " 'Boomer PERSON': 1,\n",
              " 'Spanish LANGUAGE': 1,\n",
              " 'I Will Have Vengeance WORK_OF_ART': 1,\n",
              " 'Burn Republican Party ORG': 1,\n",
              " 'F**king Ground PERSON': 1,\n",
              " '2 days DATE': 1,\n",
              " 'Western Countries ORG': 1,\n",
              " 'Chinkna PERSON': 1,\n",
              " 'Rockefeller ORG': 1,\n",
              " 'Globohomo GPE': 1,\n",
              " 'Inb4 ORG': 1,\n",
              " 'Asian NORP': 1,\n",
              " 'DPRK ORG': 1,\n",
              " 'iran GPE': 1,\n",
              " 'Redpill ORG': 1,\n",
              " 'Better ORG': 1,\n",
              " '8 more days DATE': 1,\n",
              " 'DECEMBER DATE': 1,\n",
              " 'CRIMEA ORG': 1,\n",
              " 'EVELYN DE ROTHSCHILD ORG': 1,\n",
              " 'Nothingburger Confirmed ORG': 1,\n",
              " 'muslims NORP': 1,\n",
              " 'the day late DATE': 1,\n",
              " 'WAY ORG': 1,\n",
              " 'Funny PRODUCT': 1,\n",
              " 'Zorro PERSON': 1,\n",
              " 'Goy Slop  Fuck you WORK_OF_ART': 1,\n",
              " 'Kebab PERSON': 1,\n",
              " 'RuneScape ORG': 1,\n",
              " 'Oath Keeper PERSON': 1,\n",
              " 'Guilty of Sedition\\n\\nLooks ORG': 1,\n",
              " 'OA GPE': 1,\n",
              " 'Timothy McVeigh PERSON': 1,\n",
              " '25 years DATE': 1,\n",
              " 'Supermax PERSON': 1,\n",
              " 'Cuck ZOG PERSON': 1,\n",
              " 'BBC ORG': 1,\n",
              " '2 HOURS OR TIME': 1,\n",
              " 'MURICA ORG': 1,\n",
              " 'LE GOOD ORG': 1,\n",
              " 'GLOBE ORG': 1,\n",
              " 'Donut Operator PRODUCT': 1,\n",
              " 'Steve Jobs PERSON': 1,\n",
              " 'Tim Apple Scheming ORG': 1,\n",
              " 'Tim Cook PERSON': 1,\n",
              " 'jonathan ADL PERSON': 1,\n",
              " 'Larry PERSON': 1,\n",
              " 'VAXXINE PASSPORTS SIGNED ORG': 1,\n",
              " 'Uhhh ORG': 1,\n",
              " 'mummy PRODUCT': 1,\n",
              " 'Bs ORG': 1,\n",
              " 'americans NORP': 1,\n",
              " 'South Dakota GPE': 1,\n",
              " \"McDonald's ORG\": 1,\n",
              " 'Australian NORP': 1,\n",
              " 'Mexico GPE': 1,\n",
              " 'texas GPE': 1,\n",
              " 'United States GPE': 1,\n",
              " 'Nicholas Fuentes PERSON': 1,\n",
              " 'BIPOC ORG': 1,\n",
              " 'Nick ORG': 1,\n",
              " 'Rarest ORG': 1,\n",
              " 'UNIRONICALLY ORG': 1,\n",
              " 'Vladimir Solovyov PERSON': 1,\n",
              " 'Victor PERSON': 1,\n",
              " 'Woketard PERSON': 1,\n",
              " 'Hollian Order PERSON': 1,\n",
              " 'annual DATE': 1,\n",
              " 'Kikes GPE': 1,\n",
              " 'Communists NORP': 1,\n",
              " 'Scientologists, Niggers ORG': 1,\n",
              " 'Spread Diseases PERSON': 1,\n",
              " 'Pedophiles GPE': 1,\n",
              " 'Necrophiliacs GPE': 1,\n",
              " 'Laisse-Faire Capitalists ORG': 1,\n",
              " 'Ponzi Schemers PERSON': 1,\n",
              " 'Corrupt Businessmen PERSON': 1,\n",
              " 'Rapists NORP': 1,\n",
              " 'Abusive Parents ORG': 1,\n",
              " 'month DATE': 1,\n",
              " 'the month of December DATE': 1,\n",
              " 'Pagans NORP': 1,\n",
              " 'Zionist NORP': 1,\n",
              " 'Pagan GPE': 1,\n",
              " 'between the month long drug DATE': 1,\n",
              " \"Saint Peter's PERSON\": 1,\n",
              " 'peter PERSON': 1,\n",
              " 'the last day of december DATE': 1,\n",
              " 'st peters cross ORG': 1,\n",
              " 'david PERSON': 1,\n",
              " 'Der Vago Kikel PERSON': 1,\n",
              " 'Kikel PERSON': 1,\n",
              " 'Communist NORP': 1,\n",
              " 'the Great Other FAC': 1,\n",
              " 'the Black Sun ORG': 1,\n",
              " '5pm TIME': 1,\n",
              " 'Slovakbros PERSON': 1,\n",
              " 'Niue ORG': 1,\n",
              " 'Argentina Anons ORG': 1,\n",
              " 'Norberto Ceresole PERSON': 1,\n",
              " 'the final years DATE': 1,\n",
              " 'Hugo EVENT': 1,\n",
              " 'Moshe Calzadilla PERSON': 1,\n",
              " 'Caracas GPE': 1,\n",
              " 'nuke israel ORG': 1,\n",
              " 'the John Radcliffe FAC': 1,\n",
              " 'one week DATE': 1,\n",
              " 'their fifth and sixth month DATE': 1,\n",
              " 'Next week DATE': 1,\n",
              " 'seven months DATE': 1,\n",
              " 'At least 4 billion MONEY': 1,\n",
              " 'the year 2050 DATE': 1,\n",
              " 'North America LOC': 1,\n",
              " 'the United States GPE': 1,\n",
              " 'centuries DATE': 1,\n",
              " 'Zoomer PERSON': 1,\n",
              " 'Discord ORG': 1,\n",
              " 'italians NORP': 1,\n",
              " 'GREAT Replacement ORG': 1,\n",
              " 'Goldsteinburg PERSON': 1,\n",
              " '3,500 MONEY': 1,\n",
              " 'outlandishish NORP': 1,\n",
              " 'the last 100 years DATE': 1,\n",
              " 'billions of dollars MONEY': 1,\n",
              " 'ClotShot ORG': 1,\n",
              " 'many decades DATE': 1,\n",
              " 'The Antichrist Messiah ORG': 1,\n",
              " 'Anon LOC': 1,\n",
              " 'WeChat ORG': 1,\n",
              " 'Telegram ORG': 1,\n",
              " 'Thread ORG': 1,\n",
              " 'HBD ORG': 1,\n",
              " 'Wehrkatzer ORG': 1,\n",
              " 'Debate Notes ORG': 1,\n",
              " 'Steps (100s ORG': 1,\n",
              " 'STEPS ORG': 1,\n",
              " 'Public ORG': 1,\n",
              " 'The Stanford Open Policing ORG': 1,\n",
              " 'Rebuttal ORG': 1,\n",
              " 'Vaush’s Ultimate Research Document ORG': 1,\n",
              " 'Rose Wrist PERSON': 1,\n",
              " 'Diversity + Proximity = War ORG': 1,\n",
              " 'Sci-hub ORG': 1,\n",
              " 'LibGen ORG': 1,\n",
              " 'Library Genesis ORG': 1,\n",
              " ...}"
            ]
          },
          "metadata": {},
          "execution_count": 19
        }
      ]
    },
    {
      "cell_type": "code",
      "source": [
        "printTopTermsForBoards(n=5)"
      ],
      "metadata": {
        "colab": {
          "base_uri": "https://localhost:8080/"
        },
        "id": "eYp1x5xAcTdS",
        "outputId": "b9a965c6-73a8-4268-9d92-2e15352a7dd2"
      },
      "execution_count": null,
      "outputs": [
        {
          "output_type": "stream",
          "name": "stdout",
          "text": [
            "3\n",
            "{'Blender ORG': 38, 'AI ORG': 34, 'Maya PERSON': 16, 'MMD ORG': 12, 'mmd ORG': 10}\n",
            "a\n",
            "{'Japanese NORP': 9, 'ITT ORG': 7, 'Naruto GPE': 6, 'Kawaki PERSON': 6, 'Bleach PERSON': 5}\n",
            "aco\n",
            "{'AI ORG': 10, 'Bonus WORK_OF_ART': 9, 'Halloween DATE': 5, 'WW ORG': 3, 'tomorrow DATE': 3}\n",
            "adv\n",
            "{'years DATE': 12, 'today DATE': 9, 'Canada GPE': 8, 'Christmas DATE': 6, 'WEED PERSON': 5}\n",
            "an\n",
            "{'today DATE': 5, 'Earth LOC': 5, '100% PERCENT': 5, 'Australia GPE': 4, 'daily DATE': 4}\n",
            "b\n",
            "{'4chan DATE': 5, 'Catholic NORP': 4, 'tonight TIME': 4, 'Robotron ORG': 4, 'Asian NORP': 3}\n",
            "bant\n",
            "{'The Holy Spirit WORK_OF_ART': 8, 'Jerusalem GPE': 8, 'today DATE': 6, 'Jesus Christ PERSON': 6, 'Mary PERSON': 4}\n",
            "biz\n",
            "{'ICP ORG': 18, 'Cardano PRODUCT': 14, 'today DATE': 12, 'BTC ORG': 12, 'Monero PERSON': 8}\n",
            "c\n",
            "{'Ritsu ORG': 13, 'Christmas DATE': 4, 'Gokou Ruri/Kuroneko ORG': 4, 'Kumiko PERSON': 3, 'Pixiv PERSON': 3}\n",
            "cgl\n",
            "{'this year DATE': 13, 'UK GPE': 9, 'last year DATE': 9, 'AP ORG': 7, 'next year DATE': 7}\n",
            "ck\n",
            "{'Christmas DATE': 8, 'mayo ORG': 7, 'today DATE': 6, 'Thanksgiving DATE': 5, 'French NORP': 5}\n",
            "cm\n",
            "{'Shota GPE': 10, 'Bojji GPE': 5, 'Trap ORG': 3, 'Halloween DATE': 3, 'years DATE': 3}\n",
            "co\n",
            "{'Mario PERSON': 13, 'Karai PERSON': 8, 'Christmas DATE': 7, 'Manhattan GPE': 6, 'Luigi ORG': 5}\n",
            "d\n",
            "{'AI ORG': 11, 'Futanari PERSON': 6, 'kinda PERSON': 4, 'Siena ORG': 4, 'Karen PERSON': 4}\n",
            "diy\n",
            "{'DIY ORG': 13, 'chinese NORP': 9, '100% PERCENT': 9, 'USD ORG': 8, 'USA GPE': 8}\n",
            "e\n",
            "{'AI ORG': 9, 'MMD ORG': 4, 'PNG ORG': 4, 'Anon GPE': 3, 'Nyafuu ORG': 3}\n",
            "f\n",
            "{'Ukrainian NORP': 4, '100s PERSON': 2, 'Ukraine GPE': 2, 'russian NORP': 1, 'Request Inside Does ORG': 1}\n",
            "fa\n",
            "{'100% PERCENT': 10, 'Trump ORG': 6, 'today DATE': 5, 'kinda PERSON': 5, '$10-15 MONEY': 4}\n",
            "fit\n",
            "{'BMI ORG': 9, 'the day DATE': 8, 'today DATE': 7, 'Sasuke PERSON': 7, 'Derek PERSON': 6}\n",
            "g\n",
            "{'Apple ORG': 14, 'GPU ORG': 12, 'CPU ORG': 9, 'RAM ORG': 7, 'IP ORG': 7}\n",
            "gd\n",
            "{'AI ORG': 20, 'Adobe ORG': 9, 'GD PERSON': 8, 'Blender ORG': 7, 'Photoshop ORG': 6}\n",
            "gif\n",
            "{'Stinney ORG': 6, 'BBC ORG': 6, 'years DATE': 4, 'China GPE': 4, 'asian NORP': 3}\n",
            "h\n",
            "{'NTR ORG': 21, 'English LANGUAGE': 11, 'Japanese NORP': 11, 'NTS ORG': 11, 'Hentai PERSON': 9}\n",
            "hc\n",
            "{'BBC ORG': 9, 'Love WORK_OF_ART': 5, 'Post ORG': 3, 'Aria Alexander PERSON': 3, 'Japanese NORP': 3}\n",
            "his\n",
            "{'Chinese NORP': 34, 'Han NORP': 28, 'Japanese NORP': 27, 'China GPE': 25, 'Japan GPE': 24}\n",
            "hm\n",
            "{'asian NORP': 7, 'Asian NORP': 4, 'Love WORK_OF_ART': 4, 'today DATE': 2, 'American NORP': 2}\n",
            "hr\n",
            "{'Weight ORG': 6, 'today DATE': 4, 'Hair PRODUCT': 4, 'Breast ORG': 4, 'Balinese NORP': 4}\n",
            "i\n",
            "{'Oekaki Post ORG': 321, 'Replay ORG': 283, 'Time ORG': 17, 'French NORP': 5, 'ITT ORG': 4}\n",
            "ic\n",
            "{'AI ORG': 20, 'Japanese NORP': 7, 'japanese NORP': 7, 'ITT ORG': 6, \"Scott Robertson's PERSON\": 5}\n",
            "int\n",
            "{'Japanese NORP': 14, 'Japan GPE': 8, 'Americans NORP': 7, 'America GPE': 7, 'brazil GPE': 7}\n",
            "jp\n",
            "{'Japanese NORP': 41, 'Nogizaka46 31st DATE': 16, 'Touhou PERSON': 11, 'English LANGUAGE': 9, '100% PERCENT': 9}\n",
            "k\n",
            "{'Russia GPE': 35, 'Russian NORP': 30, 'Ukraine GPE': 30, 'US GPE': 27, 'China GPE': 15}\n",
            "lgbt\n",
            "{'MTF ORG': 27, 'FTM ORG': 22, 'HRT ORG': 18, 'Lucifer PERSON': 10, 'kinda PERSON': 6}\n",
            "lit\n",
            "{'Chinese NORP': 11, 'American NORP': 10, 'Tolkien PERSON': 9, 'Christianity NORP': 8, 'Christian NORP': 8}\n",
            "m\n",
            "{'Gundam PERSON': 27, 'Tomino PERSON': 17, 'Char PERSON': 16, 'Japanese NORP': 8, 'Japan GPE': 8}\n",
            "mlp\n",
            "{'Anon GPE': 23, 'AI ORG': 15, 'Rainbow Dash PERSON': 11, 'ITT ORG': 10, 'Equestria GPE': 9}\n",
            "mu\n",
            "{'ITT ORG': 5, 'Japanese NORP': 4, 'AI ORG': 4, 'John Maus PERSON': 4, '80s DATE': 4}\n",
            "n\n",
            "{'today DATE': 10, 'America GPE': 8, 'AoA PRODUCT': 7, 'Falcon ORG': 7, 'Concorde PRODUCT': 7}\n",
            "news\n",
            "{'Trump ORG': 96, 'Ukraine GPE': 78, 'Republicans NORP': 76, 'Russia GPE': 54, 'Republican NORP': 52}\n",
            "o\n",
            "{'daily DATE': 9, 'Honda ORG': 9, 'US GPE': 9, 'Toyota ORG': 9, 'Miata GPE': 8}\n",
            "out\n",
            "{'winter DATE': 8, 'Chinese NORP': 8, 'today DATE': 8, 'summer DATE': 7, 'PCT ORG': 7}\n",
            "p\n",
            "{'EXIF ORG': 188, '35mm QUANTITY': 60, 'CompulsoryFocal ORG': 53, 'Lens PERSON': 49, 'MethodOne-Chip Color AreaFocal ORG': 31}\n",
            "po\n",
            "{'Origami PERSON': 12, 'years DATE': 7, 'Halloween DATE': 5, '4chan DATE': 5, 'Japanese NORP': 5}\n",
            "pol\n",
            "{'Ukraine GPE': 28, 'Jews NORP': 22, 'Russia GPE': 18, 'Israel GPE': 15, 'America GPE': 12}\n",
            "pw\n",
            "{'WWE ORG': 21, 'AEW ORG': 16, 'KWAB ORG': 8, 'BBC ORG': 8, 'Tony PERSON': 7}\n",
            "qa\n",
            "{'4chan Happenings Thread ITT PERSON': 1, 'Marina Datillo LOC': 1, 'MrVacBob ORG': 1}\n",
            "qst\n",
            "{'Jesse PERSON': 25, 'Meryl PERSON': 25, 'today DATE': 21, 'Ruka PERSON': 15, 'tomorrow DATE': 13}\n",
            "r\n",
            "{'kik PERSON': 4, 'Bmp PERSON': 4, 'Bump Bump ORG': 3, 'Nudeshop ORG': 3, 'MILF ORG': 3}\n",
            "r9k\n",
            "{'NES ORG': 9, 'today DATE': 6, 'kinda PERSON': 6, 'Amazon ORG': 4, 'Shadow PRODUCT': 4}\n",
            "s\n",
            "{'Asian NORP': 4, 'Tiffany ORG': 4, 'bush PERSON': 3, 'Arab NORP': 3, 'jewish NORP': 3}\n",
            "s4s\n",
            "{'Luck PERSON': 12, 'Bad Luck PERSON': 10, 'AI ORG': 9, 'morning TIME': 6, '4chan DATE': 4}\n",
            "sci\n",
            "{'/sci/ ORG': 17, 'Earth LOC': 6, 'STEM PERSON': 6, 'US GPE': 5, 'American NORP': 5}\n",
            "soc\n",
            "{'Discord ORG': 25, 'Kik ORG': 23, '18+ DATE': 10, 'US GPE': 9, 'VR GPE': 9}\n",
            "sp\n",
            "{'Lillehammer PERSON': 16, 'Mexico GPE': 13, 'USA GPE': 12, 'Argentina GPE': 12, 'American NORP': 10}\n",
            "t\n",
            "{'GB GPE': 22, 'Japanese NORP': 7, 'TB ORG': 7, 'RAW ORG': 4, 'India GPE': 4}\n",
            "tg\n",
            "{'D&D ORG': 21, 'GM ORG': 19, 'DM ORG': 14, 'GW PERSON': 8, 'JP ORG': 8}\n",
            "toy\n",
            "{'US GPE': 16, 'ROTJ Anv ORG': 9, 'today DATE': 9, 'eBay ORG': 8, 'UK GPE': 8}\n",
            "trash\n",
            "{'-1 ORG': 14, 'UTC ORG': 8, 'NSFW ORG': 6, 'Halloween DATE': 5, 'Samael ORG': 5}\n",
            "trv\n",
            "{'US GPE': 34, 'American NORP': 20, 'Thailand GPE': 19, 'USA GPE': 18, 'Japan GPE': 16}\n",
            "tv\n",
            "{'Disney ORG': 8, 'Wednesday DATE': 8, 'Mario PERSON': 6, 'today DATE': 5, 'Jerry PERSON': 5}\n",
            "u\n",
            "{'yuri GPE': 15, 'AI ORG': 10, 'Japanese NORP': 6, 'Yuri PERSON': 5, 'Claire PERSON': 5}\n",
            "v\n",
            "{'Mario PERSON': 9, 'Starfield PERSON': 7, 'Nintendo ORG': 5, 'AI ORG': 5, 'today DATE': 4}\n",
            "vg\n",
            "{'JST ORG': 42, 'UTC ORG': 35, 'Japanese NORP': 14, 'JP ORG': 13, 'PST ORG': 12}\n",
            "vip\n",
            "{'AI ORG': 8, 'today DATE': 6, '１０５ｍｍ ORG': 4, 'ﾉ弋ﾆﾆ弋 ORG': 4, 'Pres Trump ORG': 3}\n",
            "vm\n",
            "{'WoW ORG': 10, '100% PERCENT': 10, 'FPS ORG': 9, 'MMO ORG': 6, 'PvP WORK_OF_ART': 6}\n",
            "vmg\n",
            "{'Halloween DATE': 10, 'Nikke ORG': 7, 'Japanese NORP': 5, 'max PERSON': 5, 'Christmas DATE': 5}\n",
            "vp\n",
            "{'Pokemon PERSON': 38, 'Pokémon ORG': 15, 'AI ORG': 12, 'SV ORG': 12, 'Ash PERSON': 8}\n",
            "vr\n",
            "{'N64 ORG': 22, 'Nintendo ORG': 17, 'NES ORG': 15, 'Japan GPE': 15, 'SNES ORG': 13}\n",
            "vrpg\n",
            "{'RPG ORG': 37, 'JRPG ORG': 11, 'Krogan PERSON': 11, 'House ORG': 10, 'Obsidian NORP': 8}\n",
            "vst\n",
            "{'AI ORG': 34, 'RTS ORG': 15, 'Lincoln ORG': 8, 'China GPE': 8, 'France GPE': 7}\n",
            "vt\n",
            "{'Youtube ORG': 36, 'YouTube ORG': 27, 'Twitch ORG': 24, 'English LANGUAGE': 12, 'Twitter PRODUCT': 10}\n",
            "w\n",
            "{'• Please ORG': 6, 'AI ORG': 6, 'PNG ORG': 3, 'SD ORG': 3, 'SauceNao ORG': 2}\n",
            "wg\n",
            "{'Japanese NORP': 5, 'AI ORG': 4, 'today DATE': 4, 'Winter DATE': 4, 'GIF ORG': 3}\n",
            "wsg\n",
            "{'english NORP': 4, 'Post ORG': 4, 'Satan WORK_OF_ART': 4, 'daily DATE': 3, 'YouTube ORG': 3}\n",
            "wsr\n",
            "{'IP ORG': 10, 'DRM ORG': 5, 'manga GPE': 5, 'OP PERSON': 4, 'French NORP': 4}\n",
            "x\n",
            "{'Jesus PERSON': 27, 'CIA ORG': 12, 'Shiva ORG': 10, 'Jesus Christ PERSON': 9, 'today DATE': 8}\n",
            "xs\n",
            "{'BJJ ORG': 21, 'MMA ORG': 13, 'MT ORG': 10, 'thai NORP': 9, 'Muay Thai PERSON': 8}\n",
            "y\n",
            "{'Naruto GPE': 6, 'America GPE': 4, 'Japanese NORP': 4, 'AI ORG': 4, 'Leon PERSON': 4}\n"
          ]
        }
      ]
    },
    {
      "cell_type": "code",
      "source": [
        "displacy.render(text1,style=\"ent\",jupyter=True)"
      ],
      "metadata": {
        "colab": {
          "base_uri": "https://localhost:8080/",
          "height": 52
        },
        "id": "5asLC4ljQ-Zl",
        "outputId": "46313f6b-0615-4091-ef20-a9c4b9b89ad1"
      },
      "execution_count": null,
      "outputs": [
        {
          "output_type": "display_data",
          "data": {
            "text/plain": [
              "<IPython.core.display.HTML object>"
            ],
            "text/html": [
              "<span class=\"tex2jax_ignore\"><div class=\"entities\" style=\"line-height: 2.5; direction: ltr\">How is \n",
              "<mark class=\"entity\" style=\"background: #aa9cfc; padding: 0.45em 0.6em; margin: 0 0.25em; line-height: 1; border-radius: 0.35em;\">\n",
              "    Milo\n",
              "    <span style=\"font-size: 0.8em; font-weight: bold; line-height: 1; border-radius: 0.35em; vertical-align: middle; margin-left: 0.5rem\">PERSON</span>\n",
              "</mark>\n",
              " making a comeback, isn&amp;#039;t he a pedophile?</div></span>"
            ]
          },
          "metadata": {}
        }
      ]
    }
  ]
}